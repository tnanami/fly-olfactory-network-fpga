{
 "cells": [
  {
   "cell_type": "code",
   "execution_count": 1,
   "metadata": {},
   "outputs": [],
   "source": [
    "# This code analyzes the simulation results in ../outputs/oscillation_multiodors/ folder and plots Supplementary Figure 9."
   ]
  },
  {
   "cell_type": "code",
   "execution_count": 2,
   "metadata": {},
   "outputs": [],
   "source": [
    "import pickle\n",
    "import matplotlib.pyplot as plt\n",
    "from matplotlib import gridspec\n",
    "import seaborn as sns\n",
    "import statistics\n",
    "import math\n",
    "from matplotlib.ticker import ScalarFormatter\n",
    "import numpy as np\n",
    "import datetime\n",
    "cmap = plt.get_cmap(\"tab10\")"
   ]
  },
  {
   "cell_type": "code",
   "execution_count": 3,
   "metadata": {},
   "outputs": [],
   "source": [
    "def readdata(filename):\n",
    "    f = open(filename,\"rb\")\n",
    "    gw0 = pickle.load(f)\n",
    "    return gw0\n",
    "folder=\"../outputs/oscillation_multiodors/\"\n",
    "LN0_normal=readdata(folder+\"LN0_normal.txt\")\n",
    "LN1_normal=readdata(folder+\"LN1_normal.txt\")\n",
    "LN2_normal=readdata(folder+\"LN2_normal.txt\")\n",
    "LN3_normal=readdata(folder+\"LN3_normal.txt\")\n",
    "LN_normal=readdata(folder+\"LN_normal.txt\")\n",
    "PN_normal=readdata(folder+\"PN_normal.txt\")\n",
    "KC_normal=readdata(folder+\"KC_normal.txt\")\n",
    "t0_normal=readdata(folder+\"t0_normal.txt\")"
   ]
  },
  {
   "cell_type": "code",
   "execution_count": 4,
   "metadata": {
    "scrolled": false
   },
   "outputs": [
    {
     "data": {
      "image/png": "[encoded data removed]",
      "text/plain": [
       "<Figure size 432x288 with 1 Axes>"
      ]
     },
     "metadata": {
      "needs_background": "light"
     },
     "output_type": "display_data"
    }
   ],
   "source": [
    "def print_txt(l0,f0):\n",
    "    with open(f0, \"w\") as f:\n",
    "        for item in l0:\n",
    "            f.write(\"%s\\n\" % item)\n",
    "def print_fft(w,xlim_start,xlim_end):\n",
    "    l0=w[int(xlim_start*1000):int(xlim_end*1000)]\n",
    "    N=int(len(l0)/1)\n",
    "    dt=0.001\n",
    "    amp = np.abs(np.fft.fft(l0))\n",
    "    freq = np.fft.fftfreq(N, d=dt)\n",
    "    power = amp**2\n",
    "    return freq[1:int(N/2)], power[1:int(N/2)]\n",
    "def make_fft_fig(ax0,ax1,ax2,gwt0,gw0,gw1,gw2,i):\n",
    "    f0,a0=print_fft(gw0,1+i*20,9+i*20)\n",
    "    f1,a1=print_fft(gw0,11+i*20,19+i*20)\n",
    "    f2,a2=print_fft(gw2,1+i*20,9+i*20)\n",
    "    f3,a3=print_fft(gw1,1+i*20,9+i*20)\n",
    "    ax0.plot(f0,list(map(lambda x:x,a0)),color=cmap(0), zorder=0,label=\"PN\")\n",
    "    ax0.set_xlim(0,80)\n",
    "    ax0.legend()\n",
    "    ax0.set_xlabel(\"Freqency [Hz]\")\n",
    "    ax0.set_ylabel(\"Power\")\n",
    "    ax0.yaxis.set_major_formatter(ScalarFormatter(useMathText=True))\n",
    "    ax0.ticklabel_format(style=\"sci\",  axis=\"y\",scilimits=(0,0))\n",
    "    ax1.plot(f3,list(map(lambda x:x,a3)),color=cmap(1),label=\"LN\")\n",
    "    ax1.set_xlim(0,80)\n",
    "    ax1.legend()\n",
    "    ax1.set_xlabel(\"Freqency [Hz]\")\n",
    "    ax1.yaxis.set_major_formatter(ScalarFormatter(useMathText=True))\n",
    "    ax1.ticklabel_format(style=\"sci\",  axis=\"y\",scilimits=(0,0))\n",
    "    ax2.plot(f2,list(map(lambda x:x,a2)),color=cmap(2), zorder=1,label=\"KC\")\n",
    "    ax2.set_xlim(0,80)\n",
    "    ax2.legend()\n",
    "    ax2.set_xlabel(\"Freqency [Hz]\")\n",
    "    ax2.yaxis.set_major_formatter(ScalarFormatter(useMathText=True))\n",
    "    ax2.ticklabel_format(style=\"sci\",  axis=\"y\",scilimits=(0,0))\n",
    "def make_fft_fig_peak(ax,gwt0,gw0,gw1,gw2,n):\n",
    "    c0=np.zeros((5,n))\n",
    "    for i in range(n):\n",
    "        f0,a0=print_fft(gw0,1+i*20,9+i*20)        \n",
    "        f1,a1=print_fft(gw2,1+i*20,9+i*20)\n",
    "        f2,a2=print_fft(gw1,1+i*20,9+i*20)\n",
    "        f3,a3=print_fft(gw0,11+i*20,19+i*20)\n",
    "        c0[0][i]=max(a0)\n",
    "        c0[2][i]=max(a1)\n",
    "        c0[1][i]=max(a2)\n",
    "        c0[3][i]=max(a3)\n",
    "    ax.yaxis.set_major_formatter(ScalarFormatter(useMathText=True))\n",
    "    ax.ticklabel_format(style=\"sci\",  axis=\"y\",scilimits=(0,0))\n",
    "    ax.bar(1,np.average(c0[0]),color=cmap(0),label=\"PN\")\n",
    "    ax.bar(2,np.average(c0[1]),color=cmap(1),label=\"LN\")\n",
    "    ax.bar(3,np.average(c0[2]),color=cmap(2),label=\"KC\")\n",
    "    ax.bar(4,np.average(c0[3]),color=cmap(3),label=\"PN no odor\")\n",
    "\n",
    "    ax.errorbar([1,2,3,4],[np.average(c0[0]),np.average(c0[1]),np.average(c0[2]),np.average(c0[3])], yerr=[statistics.stdev(c0[0]),statistics.pstdev(c0[1]),statistics.stdev(c0[2]),statistics.stdev(c0[3])],fmt='none',ecolor='black',capsize=5)\n",
    "    ax.legend(loc='upper right')\n",
    "    ax.set_yscale(\"log\")\n",
    "    ax.set_xticks([])\n",
    "    dt_now=str(datetime.datetime.now())\n",
    "    dt_now=dt_now.replace('.', '-')\n",
    "    dt_now=dt_now.replace(' ', '-')\n",
    "    dt_now=dt_now.replace(':', '-')\n",
    "    plt.savefig(\"./temp/osci_\"+dt_now+\".png\", format=\"png\", dpi=300)\n",
    "def make_fft_fig_peak_each_odor(ax0,gwt0,gw0,gw1,gw2,n):\n",
    "    c0=np.zeros((6,int(n/6)))\n",
    "    for i in range(n):\n",
    "        f0,a0=print_fft(gw0,1+i*20,9+i*20)\n",
    "        c0[i%6][int(i/6)]=max(a0)\n",
    "        \n",
    "    ax0.bar(\"(i)\",np.average(c0[0]),color=cmap(1))\n",
    "    ax0.bar(\"(ii)\",np.average(c0[1]),color=cmap(2))\n",
    "    ax0.bar(\"(iii)\",np.average(c0[2]),color=cmap(3))\n",
    "    ax0.bar(\"(iv)\",np.average(c0[3]),color=cmap(4))\n",
    "    ax0.bar(\"(v)\",np.average(c0[4]),color=cmap(5))\n",
    "    ax0.bar(\"(vi)\",np.average(c0[5]),color=cmap(6))\n",
    "    ax0.errorbar([\"(i)\",\"(ii)\",\"(iii)\",\"(iv)\",\"(v)\",\"(vi)\"],[np.average(c0[0]),np.average(c0[1]),np.average(c0[2]),np.average(c0[3]),np.average(c0[4]),np.average(c0[5])], yerr=[statistics.pstdev(c0[0]),statistics.stdev(c0[1]),statistics.stdev(c0[2]),statistics.stdev(c0[3]),statistics.stdev(c0[4]),statistics.stdev(c0[5])],fmt='none',ecolor='black',capsize=5)\n",
    "    ax0.set_ylabel(\"average peak power specta\")\n",
    "    plt.plot([0,0],color=cmap(1),label=\"3-octanol\")\n",
    "    plt.plot([0,0],color=cmap(2),label=\"cis-3-hexenol\")\n",
    "    plt.plot([0,0],color=cmap(3),label=\"cyclohexanone\")\n",
    "    plt.plot([0,0],color=cmap(4),label=\"2,3-butanedione\")\n",
    "    plt.plot([0,0],color=cmap(5),label=\"2-hexanol\")\n",
    "    plt.plot([0,0],color=cmap(6),label=\"ethyl butyrate\")\n",
    "    plt.legend(loc='upper right')\n",
    "    plt.xticks([])\n",
    "    plt.savefig(\"../outputs/figs/oscillations_multiodors_PN.svg\", format=\"svg\")\n",
    "    print_txt(c0[0],\"../outputs/FigSourceData/SFig9_0.txt\")\n",
    "    print_txt(c0[1],\"../outputs/FigSourceData/SFig9_1.txt\")\n",
    "    print_txt(c0[2],\"../outputs/FigSourceData/SFig9_2.txt\")\n",
    "    print_txt(c0[3],\"../outputs/FigSourceData/SFig9_3.txt\")\n",
    "    print_txt(c0[4],\"../outputs/FigSourceData/SFig9_4.txt\")\n",
    "    print_txt(c0[5],\"../outputs/FigSourceData/SFig9_5.txt\")\n",
    "        \n",
    "fig = plt.figure(constrained_layout=True, figsize=(6,4))\n",
    "ax0 = fig.add_subplot(1, 1, 1)\n",
    "\n",
    "make_fft_fig_peak_each_odor(ax0, t0_normal, PN_normal, LN_normal, KC_normal,6*5)"
   ]
  },
  {
   "cell_type": "code",
   "execution_count": null,
   "metadata": {},
   "outputs": [],
   "source": []
  }
 ],
 "metadata": {
  "kernelspec": {
   "display_name": "Python 3 (ipykernel)",
   "language": "python",
   "name": "python3"
  },
  "language_info": {
   "codemirror_mode": {
    "name": "ipython",
    "version": 3
   },
   "file_extension": ".py",
   "mimetype": "text/x-python",
   "name": "python",
   "nbconvert_exporter": "python",
   "pygments_lexer": "ipython3",
   "version": "3.9.7"
  }
 },
 "nbformat": 4,
 "nbformat_minor": 4
}
